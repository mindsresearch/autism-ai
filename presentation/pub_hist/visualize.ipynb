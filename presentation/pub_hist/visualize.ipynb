{
 "cells": [
  {
   "cell_type": "code",
   "execution_count": null,
   "metadata": {},
   "outputs": [],
   "source": [
    "import pandas as pd\n",
    "import seaborn as sns\n",
    "import matplotlib.pyplot as plt\n",
    "from matplotlib import style\n",
    "df = pd.read_csv('data.csv')\n",
    "y = df['Year'].dropna().map(lambda x: str(int(x))).value_counts().sort_index()\n",
    "y"
   ]
  },
  {
   "cell_type": "code",
   "execution_count": null,
   "metadata": {},
   "outputs": [],
   "source": [
    "# If true, do fancy formatting. Otherwise, use defaults\n",
    "PRES = True\n",
    "\n",
    "fig, ax = plt.subplots(figsize=(8, 6))\n",
    "\n",
    "# set style\n",
    "#\n",
    "if PRES:\n",
    "    style.use('seaborn-v0_8-talk')\n",
    "else:\n",
    "    style.use('default')\n",
    "ax.grid(True, axis='y', linestyle='--', lw=0.5)\n",
    "\n",
    "# add plot and labels\n",
    "#\n",
    "sns.barplot(y, ax=ax)\n",
    "ax.set_xlabel('Year')\n",
    "ax.set_ylabel('Publications')\n",
    "if PRES:\n",
    "    ax.tick_params(axis='x', rotation=90, labelsize='medium')\n",
    "else:\n",
    "    ax.tick_params(axis='x', rotation=90)\n",
    "\n",
    "# add title and subtitle\n",
    "#\n",
    "ax.text(x=0.5, y=1.1, s='Publications per year (NexisUni)', fontsize=16, weight='bold', color='black', ha='center', va='bottom', transform=ax.transAxes)\n",
    "ax.text(x=0.5, y=1.05, s='(AI) AND (Autism) AND (diagno*)', fontsize=10, color='0.25', ha='center', va='bottom', transform=ax.transAxes)\n",
    "\n",
    "plt.show()"
   ]
  }
 ],
 "metadata": {
  "kernelspec": {
   "display_name": "Python 3",
   "language": "python",
   "name": "python3"
  },
  "language_info": {
   "codemirror_mode": {
    "name": "ipython",
    "version": 3
   },
   "file_extension": ".py",
   "mimetype": "text/x-python",
   "name": "python",
   "nbconvert_exporter": "python",
   "pygments_lexer": "ipython3",
   "version": "3.12.3"
  }
 },
 "nbformat": 4,
 "nbformat_minor": 2
}
