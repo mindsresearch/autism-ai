{
 "cells": [
  {
   "cell_type": "code",
   "execution_count": null,
   "metadata": {},
   "outputs": [],
   "source": [
    "import plotly.express as px\n",
    "import pandas as pd\n",
    "import nibabel as nib\n",
    "import nilearn.plotting as nip\n",
    "from tqdm import tqdm\n",
    "\n",
    "# NIIPATH = 'niigz_fpp_nyu/Outputs/cpac/nofilt_noglobal/func_preproc/NYU_0050954_func_preproc.nii.gz'\n",
    "NIIPATH = \"D:\\\\Outputs\\\\cpac\\\\nofilt_noglobal\\\\func_preproc\\\\NYU_0050954_func_preproc.nii.gz\"\n",
    "CSVPATH = 'subject_data.csv'"
   ]
  },
  {
   "cell_type": "code",
   "execution_count": null,
   "metadata": {},
   "outputs": [],
   "source": [
    "img = nib.load(NIIPATH)\n",
    "head = img.header\n",
    "print(head)"
   ]
  },
  {
   "cell_type": "code",
   "execution_count": null,
   "metadata": {},
   "outputs": [],
   "source": [
    "data = img.get_fdata()\n",
    "print(data.shape)"
   ]
  },
  {
   "cell_type": "code",
   "execution_count": null,
   "metadata": {},
   "outputs": [],
   "source": [
    "# 3D DATA\n",
    "csr = []\n",
    "for x in tqdm(range(data.shape[0])):\n",
    "    for y in range(data.shape[1]):\n",
    "        for z in range(data.shape[2]):\n",
    "            csr.append({'x': x, 'y':y, 'z':z, 'd':data[x][y][z]})\n",
    "df = pd.DataFrame.from_records(csr)\n",
    "fig = px.scatter_3d(df[df['d'] != 0], x='x', y='y', z='z', color='d')\n",
    "fig.show()"
   ]
  },
  {
   "cell_type": "code",
   "execution_count": null,
   "metadata": {},
   "outputs": [],
   "source": [
    "nip.view_img(img)"
   ]
  }
 ],
 "metadata": {
  "kernelspec": {
   "display_name": "TF_ENV",
   "language": "python",
   "name": "python3"
  },
  "language_info": {
   "codemirror_mode": {
    "name": "ipython",
    "version": 3
   },
   "file_extension": ".py",
   "mimetype": "text/x-python",
   "name": "python",
   "nbconvert_exporter": "python",
   "pygments_lexer": "ipython3",
   "version": "3.11.8"
  }
 },
 "nbformat": 4,
 "nbformat_minor": 2
}
